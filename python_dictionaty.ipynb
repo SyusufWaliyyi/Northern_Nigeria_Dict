{
 "cells": [
  {
   "cell_type": "markdown",
   "id": "7e3c7257",
   "metadata": {},
   "source": [
    "Dictionary"
   ]
  },
  {
   "cell_type": "markdown",
   "id": "f18b1548",
   "metadata": {},
   "source": [
    "Let define a list of country and their corresponding population"
   ]
  },
  {
   "cell_type": "code",
   "execution_count": 102,
   "id": "7ec2713a",
   "metadata": {},
   "outputs": [
    {
     "name": "stdout",
     "output_type": "stream",
     "text": [
      "Length of state list : 20\n",
      "Length of Number of LGs list : 20\n"
     ]
    }
   ],
   "source": [
    "Number_LGs = [44, 27, 23, 34, 14, 23, 21, 27, 21, 16, 11, 20, 17, 17, 13, 6, 25, 21, 16, 21]\n",
    "states = ['Kano', 'Jigawa','Kaduna', 'Katsina', 'Zamfara','Sokoto', 'Kebbi',\n",
    "          'Borno', 'Adamawa', 'Taraba', 'Gombe', 'Bachi', 'Yobe', 'Plateau',\n",
    "          'Nasarawa', 'Abuja', 'Niger', 'Kogi', 'Kwara', 'Benue']\n",
    "\n",
    "print(f\"Length of state list : {len(states)}\")\n",
    "print(f\"Length of Number of LGs list : {len(Number_LGs)}\")"
   ]
  },
  {
   "cell_type": "markdown",
   "id": "4891e074",
   "metadata": {},
   "source": [
    "Accessing the number of LGs for a particular involve some stages\n",
    "\n",
    "1. Determine the index ofthe state\n",
    "2. Use the index to subset the corresponding entry \n",
    "\n",
    "see example below"
   ]
  },
  {
   "cell_type": "code",
   "execution_count": 103,
   "id": "85b03f1a",
   "metadata": {},
   "outputs": [
    {
     "name": "stdout",
     "output_type": "stream",
     "text": [
      "Kano has 44 Local Governments\n"
     ]
    }
   ],
   "source": [
    "Kano_ind = states.index('Kano')\n",
    "Kano_LGs = Number_LGs[Kano_ind]\n",
    "print(f\"Kano has {Kano_LGs} Local Governments\")"
   ]
  },
  {
   "cell_type": "markdown",
   "id": "c44e06d2",
   "metadata": {},
   "source": [
    "The same procedure should be followed to access Number of LGs for each state"
   ]
  },
  {
   "cell_type": "code",
   "execution_count": 104,
   "id": "bfc84e29",
   "metadata": {},
   "outputs": [
    {
     "name": "stdout",
     "output_type": "stream",
     "text": [
      "Borno has 27 Local Governments\n"
     ]
    }
   ],
   "source": [
    "Borno_ind = states.index('Borno')\n",
    "Borno_LGs = Number_LGs[Borno_ind]\n",
    "print(f\"Borno has {Borno_LGs} Local Governments\")"
   ]
  },
  {
   "cell_type": "markdown",
   "id": "a11227ba",
   "metadata": {},
   "source": [
    "This is a bit tiring and time consuming. Python has another efficient way to deal with this, using dictionary.\n",
    "The pairs of the data can be manually transform in to dictionary for small dataset or using list comprehension for a large dataset."
   ]
  },
  {
   "cell_type": "code",
   "execution_count": 105,
   "id": "b7aade11",
   "metadata": {},
   "outputs": [
    {
     "name": "stdout",
     "output_type": "stream",
     "text": [
      "{'Kano': 44, 'Jigawa': 27, 'Kaduna': 23, 'Katsina': 34, 'Zamfara': 14, 'Sokoto': 23, 'Kebbi': 21, 'Borno': 27, 'Adamawa': 21, 'Taraba': 16, 'Gombe': 11, 'Bauchi': 20, 'Yobe': 17, 'Plateau': 17, 'Nasarawa': 13, 'Abuja': 6, 'Niger': 25, 'Kogi': 21, 'Kwara': 16, 'Benue': 21}\n"
     ]
    }
   ],
   "source": [
    "Nig_State = {'Kano':44, 'Jigawa':27, 'Kaduna':23, 'Katsina':34,'Zamfara':14, 'Sokoto':23,\n",
    "            'Kebbi':21, 'Borno':27,'Adamawa':21, 'Taraba':16, 'Gombe':11, 'Bauchi':20, \n",
    "            'Yobe':17,'Plateau':17, 'Nasarawa':13, 'Abuja':6, 'Niger':25, 'Kogi':21, \n",
    "            'Kwara':16, 'Benue':21}\n",
    "print(Nig_State)"
   ]
  },
  {
   "cell_type": "code",
   "execution_count": 106,
   "id": "ffc881d0",
   "metadata": {},
   "outputs": [
    {
     "name": "stdout",
     "output_type": "stream",
     "text": [
      "Kano has 44 Local Governments\n",
      "Borno has 27 Local Governments\n"
     ]
    }
   ],
   "source": [
    "# Accessing value from its key\n",
    "print(f\"Kano has {Nig_State['Kano']} Local Governments\")\n",
    "print(f\"Borno has {Nig_State['Borno']} Local Governments\")"
   ]
  },
  {
   "cell_type": "markdown",
   "id": "e75528e4",
   "metadata": {},
   "source": [
    "Converting lists in to a dictionary using list comprehension"
   ]
  },
  {
   "cell_type": "code",
   "execution_count": 107,
   "id": "f793cfff",
   "metadata": {},
   "outputs": [
    {
     "name": "stdout",
     "output_type": "stream",
     "text": [
      "{'Kano': 44, 'Jigawa': 27, 'Kaduna': 23, 'Katsina': 34, 'Zamfara': 14, 'Sokoto': 23, 'Kebbi': 21, 'Borno': 27, 'Adamawa': 21, 'Taraba': 16, 'Gombe': 11, 'Bachi': 20, 'Yobe': 17, 'Plateau': 17, 'Nasarawa': 13, 'Abuja': 6, 'Niger': 25, 'Kogi': 21, 'Kwara': 16, 'Benue': 21}\n"
     ]
    }
   ],
   "source": [
    "Nig_State = {states[i]: Number_LGs[i] for i in range(len(states))}\n",
    "print(Nig_State) "
   ]
  },
  {
   "cell_type": "code",
   "execution_count": 108,
   "id": "a946ddea",
   "metadata": {},
   "outputs": [
    {
     "name": "stdout",
     "output_type": "stream",
     "text": [
      "dict_keys(['Kano', 'Jigawa', 'Kaduna', 'Katsina', 'Zamfara', 'Sokoto', 'Kebbi', 'Borno', 'Adamawa', 'Taraba', 'Gombe', 'Bachi', 'Yobe', 'Plateau', 'Nasarawa', 'Abuja', 'Niger', 'Kogi', 'Kwara', 'Benue'])\n",
      "dict_values([44, 27, 23, 34, 14, 23, 21, 27, 21, 16, 11, 20, 17, 17, 13, 6, 25, 21, 16, 21])\n"
     ]
    }
   ],
   "source": [
    "# Gettig the two list from the dictionary\n",
    "print(Nig_State.keys())  # Accessing keys of the dictionary\n",
    "print(Nig_State.values())  # Accessing values of the dictionary"
   ]
  },
  {
   "cell_type": "markdown",
   "id": "acda4ada",
   "metadata": {},
   "source": [
    "Remember dictionaries are immutable, however a key pair can be added or deleted. Let add a common key name new value to the dictionary"
   ]
  },
  {
   "cell_type": "markdown",
   "id": "f104816a",
   "metadata": {},
   "source": [
    "## Removing a key from the dictionary\n",
    "\n",
    "This can be achieve in two ways\n",
    "\n",
    "1. Using del function\n",
    "2. or pop menthod pop()"
   ]
  },
  {
   "cell_type": "code",
   "execution_count": 109,
   "id": "8cf7423d",
   "metadata": {},
   "outputs": [
    {
     "name": "stdout",
     "output_type": "stream",
     "text": [
      "Length of States before deleting: 20 States\n",
      "Length after deleting: 19 States\n"
     ]
    }
   ],
   "source": [
    "print(f\"Length of States before deleting: {len(Nig_State)} States\")\n",
    "del Nig_State['Benue']\n",
    "print(f\"Length after deleting: {len(Nig_State)} States\")"
   ]
  },
  {
   "cell_type": "code",
   "execution_count": 110,
   "id": "6441d7b4",
   "metadata": {},
   "outputs": [
    {
     "name": "stdout",
     "output_type": "stream",
     "text": [
      "Length of States before deleting: 19 States\n",
      "Length after deleting: 18 States\n"
     ]
    }
   ],
   "source": [
    "print(f\"Length of States before deleting: {len(Nig_State)} States\")\n",
    "Nig_State.pop('Plateau')\n",
    "print(f\"Length after deleting: {len(Nig_State)} States\")"
   ]
  },
  {
   "cell_type": "markdown",
   "id": "3d1c0e55",
   "metadata": {},
   "source": [
    "Del will return an error if the key specify is not in the dictionary, where this can be taking care by the pop method if second argument is set to None"
   ]
  },
  {
   "cell_type": "code",
   "execution_count": 111,
   "id": "be906a2f",
   "metadata": {},
   "outputs": [
    {
     "ename": "KeyError",
     "evalue": "'Ekiti'",
     "output_type": "error",
     "traceback": [
      "\u001b[1;31m---------------------------------------------------------------------------\u001b[0m",
      "\u001b[1;31mKeyError\u001b[0m                                  Traceback (most recent call last)",
      "Cell \u001b[1;32mIn[111], line 1\u001b[0m\n\u001b[1;32m----> 1\u001b[0m \u001b[38;5;28;01mdel\u001b[39;00m \u001b[43mNig_State\u001b[49m\u001b[43m[\u001b[49m\u001b[38;5;124;43m'\u001b[39;49m\u001b[38;5;124;43mEkiti\u001b[39;49m\u001b[38;5;124;43m'\u001b[39;49m\u001b[43m]\u001b[49m\n",
      "\u001b[1;31mKeyError\u001b[0m: 'Ekiti'"
     ]
    }
   ],
   "source": [
    "del Nig_State['Ekiti']"
   ]
  },
  {
   "cell_type": "code",
   "execution_count": null,
   "id": "78db4012",
   "metadata": {},
   "outputs": [
    {
     "name": "stdout",
     "output_type": "stream",
     "text": [
      "None\n"
     ]
    }
   ],
   "source": [
    "print(Nig_State.pop('Ekiti', None))"
   ]
  },
  {
   "cell_type": "markdown",
   "id": "71dadde6",
   "metadata": {},
   "source": [
    "Adding a key pair to a dictionary"
   ]
  },
  {
   "cell_type": "code",
   "execution_count": null,
   "id": "708bea1d",
   "metadata": {},
   "outputs": [
    {
     "name": "stdout",
     "output_type": "stream",
     "text": [
      "20\n"
     ]
    }
   ],
   "source": [
    "Nig_State[\"Plateau\"] = 17\n",
    "Nig_State[\"Benue\"] = 21\n",
    "print(len(Nig_State))"
   ]
  },
  {
   "cell_type": "markdown",
   "id": "ec69ca05",
   "metadata": {},
   "source": [
    "What will happen if we try to manually add another state, that already exist. The immutability of dictionary will remove the earlier 1.\n",
    "\n",
    "Assuming we mistakenly assign 43 LGs to Kano instead of 44"
   ]
  },
  {
   "cell_type": "code",
   "execution_count": null,
   "id": "6463c6bf",
   "metadata": {},
   "outputs": [
    {
     "name": "stdout",
     "output_type": "stream",
     "text": [
      "Length of Nig State: 20\n"
     ]
    }
   ],
   "source": [
    "Nig_State = {'Kano':43, 'Jigawa':27, 'Kaduna':23, 'Katsina':34,'Zamfara':14, 'Sokoto':23,\n",
    "            'Kebbi':21, 'Borno':27,'Adamawa':21, 'Taraba':16, 'Gombe':11, 'Bauchi':20, \n",
    "            'Yobe':17,'Plateau':17, 'Nasarawa':13, 'Abuja':6, 'Niger':25, 'Kogi':21, \n",
    "            'Kwara':16, 'Benue':21, \"Kano\":44}\n",
    "print(f\"Length of Nig State: {len(Nig_State)}\")"
   ]
  },
  {
   "cell_type": "markdown",
   "id": "503f4f37",
   "metadata": {},
   "source": [
    "Looping through a dictionary"
   ]
  },
  {
   "cell_type": "code",
   "execution_count": null,
   "id": "0d5d41ff",
   "metadata": {},
   "outputs": [
    {
     "name": "stdout",
     "output_type": "stream",
     "text": [
      "Kano   :: 44   Local Govts\n",
      "Jigawa   :: 27   Local Govts\n",
      "Kaduna   :: 23   Local Govts\n",
      "Katsina   :: 34   Local Govts\n",
      "Zamfara   :: 14   Local Govts\n",
      "Sokoto   :: 23   Local Govts\n",
      "Kebbi   :: 21   Local Govts\n",
      "Borno   :: 27   Local Govts\n",
      "Adamawa   :: 21   Local Govts\n",
      "Taraba   :: 16   Local Govts\n",
      "Gombe   :: 11   Local Govts\n",
      "Bachi   :: 20   Local Govts\n",
      "Yobe   :: 17   Local Govts\n",
      "Nasarawa   :: 13   Local Govts\n",
      "Abuja   :: 6   Local Govts\n",
      "Niger   :: 25   Local Govts\n",
      "Kogi   :: 21   Local Govts\n",
      "Kwara   :: 16   Local Govts\n"
     ]
    }
   ],
   "source": [
    "for state, lg in Nig_State.items():\n",
    "    print(f\"{state}    {lg}   Local Govts\")"
   ]
  },
  {
   "cell_type": "code",
   "execution_count": null,
   "id": "68557107",
   "metadata": {},
   "outputs": [
    {
     "name": "stdout",
     "output_type": "stream",
     "text": [
      "Zamfara : 14\n",
      "Taraba : 16\n",
      "Gombe : 11\n",
      "Yobe : 17\n",
      "Plateau : 17\n",
      "Nasarawa : 13\n",
      "Abuja : 6\n",
      "Kwara : 16\n"
     ]
    }
   ],
   "source": [
    "# State with LGAs less than 30\n",
    "for state, lg in Nig_State.items():\n",
    "    if lg<20:\n",
    "        print(state,':', lg)"
   ]
  },
  {
   "cell_type": "code",
   "execution_count": null,
   "id": "0fcf7214",
   "metadata": {},
   "outputs": [
    {
     "name": "stdout",
     "output_type": "stream",
     "text": [
      "Kano : 44\n",
      "Jigawa : 27\n",
      "Kaduna : 23\n",
      "Katsina : 34\n",
      "Sokoto : 23\n",
      "Kebbi : 21\n",
      "Borno : 27\n",
      "Adamawa : 21\n",
      "Niger : 25\n",
      "Kogi : 21\n"
     ]
    }
   ],
   "source": [
    "# State with LGAs greater than 30\n",
    "for state, lg in Nig_State.items():\n",
    "    if lg>20:\n",
    "        print(state,':', lg)"
   ]
  },
  {
   "cell_type": "code",
   "execution_count": null,
   "id": "d8cff812",
   "metadata": {},
   "outputs": [
    {
     "name": "stdout",
     "output_type": "stream",
     "text": [
      "Jigawa : 27\n",
      "Kaduna : 23\n",
      "Sokoto : 23\n",
      "Kebbi : 21\n",
      "Borno : 27\n",
      "Adamawa : 21\n",
      "Niger : 25\n",
      "Kogi : 21\n"
     ]
    }
   ],
   "source": [
    "# State with LGA in between 20 and 30 \n",
    "for state, lg in Nig_State.items():\n",
    "    if (lg>20) & (lg<30):\n",
    "        print(state,':', lg)"
   ]
  },
  {
   "cell_type": "code",
   "execution_count": null,
   "id": "0e617859",
   "metadata": {},
   "outputs": [
    {
     "name": "stdout",
     "output_type": "stream",
     "text": [
      "Kano : 44\n",
      "Katsina : 34\n"
     ]
    }
   ],
   "source": [
    "# State with LGAs greater than 30\n",
    "for state, lg in Nig_State.items():\n",
    "    if lg>30:\n",
    "        print(state,':', lg)"
   ]
  },
  {
   "cell_type": "markdown",
   "id": "c34750ac",
   "metadata": {},
   "source": [
    "Dictionary to a list"
   ]
  },
  {
   "cell_type": "markdown",
   "id": "f8f418bf",
   "metadata": {},
   "source": [
    "The dictionary can be restore into the two list, it started from."
   ]
  },
  {
   "cell_type": "code",
   "execution_count": 114,
   "id": "49b94b66",
   "metadata": {},
   "outputs": [
    {
     "name": "stdout",
     "output_type": "stream",
     "text": [
      "['Kano', 'Jigawa', 'Kaduna', 'Katsina', 'Zamfara', 'Sokoto', 'Kebbi', 'Borno', 'Adamawa', 'Taraba', 'Gombe', 'Bachi', 'Yobe', 'Nasarawa', 'Abuja', 'Niger', 'Kogi', 'Kwara']\n"
     ]
    }
   ],
   "source": [
    "states_list = list(Nig_State.keys())\n",
    "print(states_list)"
   ]
  },
  {
   "cell_type": "code",
   "execution_count": 115,
   "id": "96e9dac0",
   "metadata": {},
   "outputs": [
    {
     "name": "stdout",
     "output_type": "stream",
     "text": [
      "[44, 27, 23, 34, 14, 23, 21, 27, 21, 16, 11, 20, 17, 13, 6, 25, 21, 16]\n"
     ]
    }
   ],
   "source": [
    "Num_LGs_list = list(Nig_State.values())\n",
    "print(Num_LGs_list)"
   ]
  }
 ],
 "metadata": {
  "kernelspec": {
   "display_name": "Python 3",
   "language": "python",
   "name": "python3"
  },
  "language_info": {
   "codemirror_mode": {
    "name": "ipython",
    "version": 3
   },
   "file_extension": ".py",
   "mimetype": "text/x-python",
   "name": "python",
   "nbconvert_exporter": "python",
   "pygments_lexer": "ipython3",
   "version": "3.13.2"
  }
 },
 "nbformat": 4,
 "nbformat_minor": 5
}
